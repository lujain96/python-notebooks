{
  "cells": [
    {
      "cell_type": "markdown",
      "id": "549966c5",
      "metadata": {
        "id": "549966c5"
      },
      "source": [
        "## Writing Machine\n",
        "\n",
        "#### You are helping your proffessor with some basic word manipulation techniques, your proffessor asks you to write a program that can apply the nest features based on his needs:\n",
        "\n",
        "|Order|Description|\n",
        "| --- | --- |\n",
        "|Cap_First|Capitalize the first charchter of each word|\n",
        "|Toggle|Reverse the type of each charchter, cap become low and low become cap|\n",
        "|count_seq {seq}|returns how many times this seq apper in the string|\n"
      ]
    },
    {
      "cell_type": "code",
      "execution_count": null,
      "id": "46901bd7",
      "metadata": {
        "id": "46901bd7",
        "outputId": "debae3ab-384e-491b-f90d-517729487df1"
      },
      "outputs": [
        {
          "name": "stdout",
          "output_type": "stream",
          "text": [
            "Enter your words here: test test and another test\n",
            "What kind of order do you want to apply? \n",
            "Choose one: Cap_First, Toggle, count_seq, or Exit cap\n",
            "This is not an order. Please enter a valid order\n",
            "Choose one: Cap_First, Toggle, count_seq, or Exit cap_first\n",
            "Test Test And Another Test\n",
            "Choose one: Cap_First, Toggle, count_seq, or Exit toggle\n",
            "tEST tEST aND aNOTHER tEST\n",
            "Choose one: Cap_First, Toggle, count_seq, or Exit count_seq\n",
            "Enter your sequence here: test\n",
            "The seq test appeared 3 times.\n",
            "Choose one: Cap_First, Toggle, count_seq, or Exit exit\n"
          ]
        }
      ],
      "source": [
        "### Write Your Code Here ###\n",
        "#A program to apply some orders into a string.\n",
        "\n",
        "#prompt the user to enter the words\n",
        "words = input('Enter your words here: ')\n",
        "print('What kind of order do you want to apply? ')\n",
        "\n",
        "#check if it's a valid order\n",
        "while True:\n",
        "    while True:\n",
        "        order = input('Choose one: Cap_First, Toggle, count_seq, or Exit ').lower()\n",
        "        if order == 'cap_first' or order == 'toggle' or order == 'count_seq' or order == 'exit':\n",
        "            break\n",
        "        else:\n",
        "            print(\"This is not an order. Please enter a valid order\")\n",
        "            continue\n",
        "\n",
        "#check what order the user chose\n",
        "    if order == 'cap_first':\n",
        "        words = words.title()\n",
        "        print(words)\n",
        "    \n",
        "    elif order == 'toggle':\n",
        "        words = words.swapcase() #swap upper and lower case\n",
        "        print(words)\n",
        "    \n",
        "    elif order == 'count_seq':\n",
        "        count = 0\n",
        "        seq = input('Enter your sequence here: ').lower()\n",
        "        words = words.lower() #lower the charecters to deal with them easily\n",
        "        wordlst = words.split(' ') #split the string\n",
        "        count = wordlst.count(seq) #count the occurances of the seq\n",
        "        print('The seq', seq, 'appeared', count, 'times.')  \n",
        "\n",
        "    elif order == 'exit':\n",
        "        break\n"
      ]
    }
  ],
  "metadata": {
    "kernelspec": {
      "display_name": "Python 3",
      "language": "python",
      "name": "python3"
    },
    "language_info": {
      "codemirror_mode": {
        "name": "ipython",
        "version": 3
      },
      "file_extension": ".py",
      "mimetype": "text/x-python",
      "name": "python",
      "nbconvert_exporter": "python",
      "pygments_lexer": "ipython3",
      "version": "3.8.8"
    },
    "colab": {
      "provenance": []
    }
  },
  "nbformat": 4,
  "nbformat_minor": 5
}