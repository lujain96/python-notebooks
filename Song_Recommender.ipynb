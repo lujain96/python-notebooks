{
  "cells": [
    {
      "cell_type": "markdown",
      "id": "a99cf556",
      "metadata": {
        "id": "a99cf556"
      },
      "source": [
        "## Problem 2\n",
        "\n",
        "### <span style=\"color:Blue\">Song Recommender</span>\n",
        "\n",
        "#### <a id='seq_1'></a> Build a simple program that recommend songs to the user , based on his feelings and current mood, the songs recommendation rely on five categories:\n",
        "- Cheering\n",
        "- Sad\n",
        "- In Love\n",
        "- Motivated\n",
        "- Calm\n",
        "\n",
        "#### Each song has a total score of 5 for each category, so you should ask the user for his percentage for each category, with a simple restriction that the category score must not exceed 5.\n",
        "#### Then you should find the closest song to his feelings based on a simple difference calculation equation shown below:\n",
        "$ \\sqrt{(I_1 - R_1)^2 + (I_2 - R_2)^2 + (I_3 - R_3)^2 + (I_4 - R_4)^2} $\n",
        "##### As $ I_i $ is the input feeling value number i, and $ R_i $ is the refrence feeling value number i, as  $ i <= 4 $\n",
        "##### you will find below in the coding cell a nested dictionary with all the songs and its scores for each category, and also atatched in each dictionary a link to the song in youtube.\n",
        "\n",
        "#### Output Discription:\n",
        "|Case|Output|\n",
        "|--|--|\n",
        "|Standard|Song Name<br>Link to the video in youtube|\n",
        "\n",
        "#### Notes\n",
        "- The input categories order is as [above](#seq_1)\n",
        "- Make sure the score for each category is 5 at max.\n",
        "- All inputs must be casted to float.\n",
        "- The songs are listed in a nested dictionary with values of each category down below."
      ]
    },
    {
      "cell_type": "code",
      "execution_count": null,
      "id": "9526b5c4",
      "metadata": {
        "id": "9526b5c4",
        "outputId": "e94a8d34-e2a9-408b-eac1-22dead8cfffc"
      },
      "outputs": [
        {
          "name": "stdout",
          "output_type": "stream",
          "text": [
            "In scale of 0 to 5, describe how much you feel Cheering? 1\n",
            "In scale of 0 to 5, describe how much you feel Sad? 2\n",
            "In scale of 0 to 5, describe how much you feel In love? 3\n",
            "In scale of 0 to 5, describe how much you feel Motivated? 4\n",
            "In scale of 0 to 5, describe how much you feel Calm? 5\n",
            "The best song for you is George Ezra - Budapest https://www.youtube.com/watch?v=VHrLPs3_1Fs\n"
          ]
        }
      ],
      "source": [
        "### Write Your Code Here ###\n",
        "\n",
        "### DO NOT TOUCH THIS\n",
        "\n",
        "DICT_OF_SONGS = {\n",
        "    'Ed Sheeran - Perfect':[{'Cheering':3,'Sad':0,'In love':5, 'Motivated':2, 'Calm':3},'https://www.youtube.com/watch?v=2Vv-BfVoq4g'],\n",
        "    'George Ezra - Budapest':[{'Cheering':1,'Sad':0,'In love':5, 'Motivated':2, 'Calm':4},'https://www.youtube.com/watch?v=VHrLPs3_1Fs'],\n",
        "    'Mark Ronson - Uptown Funk':[{'Cheering':5,'Sad':0,'In love':2, 'Motivated':3,'Calm':1},'https://www.youtube.com/watch?v=OPf0YbXqDm0'],\n",
        "    'Maroon 5 - Sugar':[{'Cheering':5,'Sad':0,'In love':4, 'Motivated':4,'Calm':1},'https://www.youtube.com/watch?v=09R8_2nJtjg'],\n",
        "    'The Lumineers - Sleep On The Floor':[{'Cheering':1,'Sad':4,'In love':4, 'Motivated':1,'Calm':4},'https://www.youtube.com/watch?v=v4pi1LxuDHc'],\n",
        "    'Imagine Dragons - Demons':[{'Cheering':3,'Sad':3,'In love':0, 'Motivated':5,'Calm':0},'https://www.youtube.com/watch?v=mWRsgZuwf_8'],\n",
        "    'David Guetta - Titanium ft. Sia':[{'Cheering':4,'Sad':1,'In love':0, 'Motivated':5,'Calm':0},'https://www.youtube.com/watch?v=JRfuAukYTKg'],\n",
        "    'Linki Park - Numb':[{'Cheering':0,'Sad':5,'In love':0, 'Motivated':5,'Calm':0},'https://www.youtube.com/watch?v=kXYiU_JCYtU'],\n",
        "    'Lord Huron - The Night We Met':[{'Cheering':0,'Sad':5,'In love':5, 'Motivated':0,'Calm':3},'https://www.youtube.com/watch?v=wGF7PswOENQ'],\n",
        "    'Lana Del Rey - Summertime Sadness':[{'Cheering':0,'Sad':5,'In love':5, 'Motivated':0,'Calm':5},'https://www.youtube.com/watch?v=TdrL3QxjyVw'],\n",
        "    'LP - Lost On You':[{'Cheering':0,'Sad':5,'In love':2, 'Motivated':0,'Calm':3},'https://www.youtube.com/watch?v=wDjeBNv6ip0'],\n",
        "    'Rocky III • Eye of the Tiger • Survivor':[{'Cheering':5,'Sad':0,'In love':0, 'Motivated':5,'Calm':2},'https://www.youtube.com/watch?v=ERT_7u5L0dc'],\n",
        "    'The Script - Hall of Fame':[{'Cheering':4,'Sad':2,'In love':0, 'Motivated':5,'Calm':0},'https://www.youtube.com/watch?v=mk48xRzuNvA'],\n",
        "    'Mike Posner - I Took A Pill In Ibiza':[{'Cheering':1,'Sad':5,'In love':0, 'Motivated':0,'Calm':0},'https://www.youtube.com/watch?v=foE1mO2yM04'],\n",
        "    'London Grammar - Nightcall':[{'Cheering':0,'Sad':5,'In love':0, 'Motivated':0,'Calm':2},'https://www.youtube.com/watch?v=OZYw0MQp_fI'],\n",
        "    'Lykke Li - I Follow Rivers':[{'Cheering':2,'Sad':5,'In love':5, 'Motivated':0,'Calm':1},'https://www.youtube.com/watch?v=vZYbEL06lEU']\n",
        "}\n",
        "\n",
        "### You Can Start From Here ###\n",
        "# lists to append the songs references and youtupe links     \n",
        "song_list = []\n",
        "youtube = []\n",
        "for x in DICT_OF_SONGS.values():\n",
        "    youtube.append(x[1])\n",
        "    song = x[0]\n",
        "    lis = list(song.values())\n",
        "    song_list.append(lis)\n",
        "\n",
        "def scale(message):\n",
        "    '''\n",
        "    A function that takes inputs from user and checks if it's valid or not\n",
        "    agrs: message, a string value\n",
        "    \n",
        "    \n",
        "    '''\n",
        "    \n",
        "    \n",
        "    while True:\n",
        "        try:\n",
        "            while True:\n",
        "                feel = int(input(message))\n",
        "                if feel >= 0 and feel <= 5:\n",
        "                    break\n",
        "                else:\n",
        "                    print(\"This is not a valid number. Please enter a valid number\")\n",
        "                    continue\n",
        "        except ValueError:\n",
        "            print(\"This is not a number. Please enter a valid number\")\n",
        "            continue\n",
        "        else:\n",
        "            break\n",
        "    \n",
        "    return feel\n",
        "    \n",
        "    \n",
        "feelings = []\n",
        "#calling the scale function\n",
        "cheering = scale('In scale of 0 to 5, describe how much you feel Cheering? ')\n",
        "sad = scale('In scale of 0 to 5, describe how much you feel Sad? ')\n",
        "love = scale('In scale of 0 to 5, describe how much you feel In love? ')\n",
        "motivated = scale('In scale of 0 to 5, describe how much you feel Motivated? ')\n",
        "calm = scale('In scale of 0 to 5, describe how much you feel Calm? ')\n",
        "#append values to feelings list\n",
        "feelings.append(cheering)\n",
        "feelings.append(sad)\n",
        "feelings.append(love)\n",
        "feelings.append(motivated)\n",
        "feelings.append(calm)\n",
        "\n",
        "#Calculate the difference between feelings\n",
        "listOfFeelings = []\n",
        "for x in song_list:\n",
        "    l = [(a - b)**2 for a, b in zip(feelings, x)]\n",
        "    Sum = sum(l)\n",
        "    Sum = Sum ** 0.5\n",
        "    listOfFeelings.append(Sum)\n",
        "#min value \n",
        "min_value = min(listOfFeelings)\n",
        "min_index = listOfFeelings.index(min_value)\n",
        "\n",
        "#append the songs names\n",
        "songs = []\n",
        "for x in DICT_OF_SONGS.keys():\n",
        "    songs.append(x)\n",
        "    \n",
        "print('The best song for you is', songs[min_index], youtube[min_index])"
      ]
    },
    {
      "cell_type": "markdown",
      "id": "7f4d98e0",
      "metadata": {
        "id": "7f4d98e0"
      },
      "source": [
        "#############################################################################################################"
      ]
    }
  ],
  "metadata": {
    "kernelspec": {
      "display_name": "Python 3",
      "language": "python",
      "name": "python3"
    },
    "language_info": {
      "codemirror_mode": {
        "name": "ipython",
        "version": 3
      },
      "file_extension": ".py",
      "mimetype": "text/x-python",
      "name": "python",
      "nbconvert_exporter": "python",
      "pygments_lexer": "ipython3",
      "version": "3.8.8"
    },
    "colab": {
      "provenance": []
    }
  },
  "nbformat": 4,
  "nbformat_minor": 5
}