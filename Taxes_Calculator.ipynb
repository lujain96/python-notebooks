{
  "cells": [
    {
      "cell_type": "markdown",
      "id": "0a9421d0",
      "metadata": {
        "id": "0a9421d0"
      },
      "source": [
        
        "### Taxes Calculator\n",
        "\n",
        "#### Based on the following table build a program that takes the independint variables values from the user, calculate and print the taxes he/she should pay:\n",
        "\n",
        "| Variable | Values | Taxes |\n",
        "| --- | ------ | --- |\n",
        "|Annual Salary|<50K  , >50K  && <100K  , >100K | +1.7% , +2.3% , +2.8% |\n",
        "|House Size|Small , Meduim , Large|+0.6% , +0.9% , +1.2% |\n",
        "|Freelance| Yes , No| -0.7% , -0.0%|\n",
        "\n",
        "#### Notes:\n",
        "- All variables should be available from the user as an input data. \n",
        "- All input data should be casted to integer or float. \n",
        "- Your program should be printing the results in a good and readable form.\n",
        "- You MUST spicify the input style and words you want from the user to spicify his value for each variable, and write a simple documentation as comments to declare your rules.\n",
        "\n",
        "#### Applied Concepts\n",
        "- Control Flow Tools\n",
        "- If statements\n",
        "- Multiple conditions\n",
        "- Strings Operations"
      ]
    },
    {
      "cell_type": "code",
      "execution_count": null,
      "id": "1b7fe0cb",
      "metadata": {
        "id": "1b7fe0cb",
        "outputId": "fc9bf10b-c5e2-4cf3-8d2e-695c559af356"
      },
      "outputs": [
        {
          "name": "stdout",
          "output_type": "stream",
          "text": [
            "Enter your annual salary please: d\n",
            "This is not a number. Please enter a valid number\n",
            "Enter your annual salary please: 30000\n",
            "Enter your house size please: small, medium, or large? d\n",
            "This is not a size. Please enter a valid size\n",
            "Enter your house size please: small, medium, or large? 3\n",
            "This is not a size. Please enter a valid size\n",
            "Enter your house size please: small, medium, or large? medium\n",
            "Are you a freelancer? please answer with yes or no f\n",
            "Please enter a valid answer\n",
            "Are you a freelancer? please answer with yes or no yes\n",
            "Your tax is : 5169.87\n"
          ]
        }
      ],
      "source": [
        "### Write Your Code Here ###\n",
        "# A program to calculate the tax.\n",
        "\n",
        "#check the validation of inputs\n",
        "while True:\n",
        "    try:\n",
        "        annual_salary = float(input('Enter your annual salary please: '))\n",
        "    except ValueError:\n",
        "        print(\"This is not a number. Please enter a valid number\")\n",
        "        continue\n",
        "    else:\n",
        "        break\n",
        "        \n",
        "while True:\n",
        "    house_size = input('Enter your house size please: small, medium, or large? ').lower()\n",
        "    if house_size == 'small' or house_size == 'medium' or house_size == 'large':\n",
        "        break\n",
        "    else:\n",
        "        print(\"This is not a size. Please enter a valid size\")\n",
        "        continue\n",
        "\n",
        "while True:\n",
        "    freelance = input('Are you a freelancer? please answer with yes or no ').lower()\n",
        "    if freelance == 'yes' or freelance == 'no':\n",
        "        break\n",
        "    else:\n",
        "        print(\"Please enter a valid answer\")\n",
        "        continue\n",
        "\n",
        "#check the salary to calculate the tax\n",
        "if annual_salary < 50000:\n",
        "    tax = annual_salary * 0.17\n",
        "elif annual_salary > 50000 and annual_salary < 100000:\n",
        "    tax = (annual_salary - 50000) * 0.23 + 50000 * 0.17\n",
        "else:\n",
        "    tax = 0.17 * 50000 + 0.23 * (100000 - 50000) / (annual_salary - 100000) * 0.28\n",
        "\n",
        "#check the house size to calculate the tax\n",
        "if house_size == 'small':\n",
        "    tax = tax + (tax * 0.06)\n",
        "elif house_size == 'medium':\n",
        "    tax = tax + (tax * 0.09)\n",
        "else:\n",
        "    tax = tax + (tax * 0.12)\n",
        "\n",
        "#check the freelance status to calculate the tax\n",
        "if freelance == 'yes':\n",
        "    tax = tax - (tax * 0.07)\n",
        "else:\n",
        "    tax = tax - (tax * 0.00)\n",
        "    \n",
        "print('Your tax is :', tax)\n"
      ]
    },
    {
      "cell_type": "markdown",
      "id": "11742b48",
      "metadata": {
        "id": "11742b48"
      },
      "source": [
        "#############################################################################################################"
      ]
    }
  ],
  "metadata": {
    "kernelspec": {
      "display_name": "Python 3",
      "language": "python",
      "name": "python3"
    },
    "language_info": {
      "codemirror_mode": {
        "name": "ipython",
        "version": 3
      },
      "file_extension": ".py",
      "mimetype": "text/x-python",
      "name": "python",
      "nbconvert_exporter": "python",
      "pygments_lexer": "ipython3",
      "version": "3.8.8"
    },
    "colab": {
      "provenance": []
    }
  },
  "nbformat": 4,
  "nbformat_minor": 5
}
